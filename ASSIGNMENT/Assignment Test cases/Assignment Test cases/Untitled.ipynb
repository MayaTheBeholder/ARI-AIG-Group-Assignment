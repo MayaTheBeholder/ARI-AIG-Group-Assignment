{
 "cells": [
  {
   "cell_type": "code",
   "execution_count": 5,
   "id": "f19c9561-35b0-4c26-b9ae-09d111849292",
   "metadata": {},
   "outputs": [
    {
     "ename": "ModuleNotFoundError",
     "evalue": "No module named 'degrees'",
     "output_type": "error",
     "traceback": [
      "\u001b[1;31m---------------------------------------------------------------------------\u001b[0m",
      "\u001b[1;31mModuleNotFoundError\u001b[0m                       Traceback (most recent call last)",
      "Cell \u001b[1;32mIn[5], line 2\u001b[0m\n\u001b[0;32m      1\u001b[0m \u001b[38;5;66;03m# Import your functions from degrees.py\u001b[39;00m\n\u001b[1;32m----> 2\u001b[0m \u001b[38;5;28;01mfrom\u001b[39;00m \u001b[38;5;21;01mdegrees\u001b[39;00m \u001b[38;5;28;01mimport\u001b[39;00m shortest_path, neighbors_for_person\n\u001b[0;32m      4\u001b[0m \u001b[38;5;66;03m# (Optional) Set up dummy data for demonstration\u001b[39;00m\n\u001b[0;32m      5\u001b[0m \u001b[38;5;66;03m# This assumes your module allows using test data (or you override globals as shown in the test cases)\u001b[39;00m\n\u001b[0;32m      6\u001b[0m \u001b[38;5;28;01mimport\u001b[39;00m \u001b[38;5;21;01mdegrees\u001b[39;00m\n",
      "\u001b[1;31mModuleNotFoundError\u001b[0m: No module named 'degrees'"
     ]
    }
   ],
   "source": [
    "# Import your functions from degrees.py\n",
    "from degrees import shortest_path, neighbors_for_person\n",
    "\n",
    "# (Optional) Set up dummy data for demonstration\n",
    "# This assumes your module allows using test data (or you override globals as shown in the test cases)\n",
    "import degrees\n",
    "degrees.scientists = {\n",
    "    'A': {'name': 'Alice', 'papers': {'p1'}},\n",
    "    'B': {'name': 'Bob', 'papers': {'p1', 'p2'}},\n",
    "    'C': {'name': 'Carol', 'papers': {'p2'}},\n",
    "}\n",
    "degrees.papers = {\n",
    "    'p1': {'title': 'Paper 1', 'year': 2025, 'authors': {'A', 'B'}},\n",
    "    'p2': {'title': 'Paper 2', 'year': 2025, 'authors': {'B', 'C'}},\n",
    "}\n",
    "\n",
    "# Show neighbors for scientist 'B'\n",
    "print(\"Neighbors for B:\", neighbors_for_person('B'))\n",
    "\n",
    "# Show the shortest path from A to C\n",
    "path = shortest_path('A', 'C')\n",
    "print(\"Shortest path from A to C:\", path)\n"
   ]
  },
  {
   "cell_type": "code",
   "execution_count": null,
   "id": "8dbd4dc9-3831-4db4-ab70-5da66eed2b8b",
   "metadata": {},
   "outputs": [],
   "source": [
    "Sudoku Solver:\n",
    "from sudoku_solver import solve_sudoku, is_valid_sudoku\n",
    "\n",
    "# Define a sample puzzle with zeros representing empty cells.\n",
    "sample_puzzle = [\n",
    "    [5, 3, 0, 0, 7, 0, 0, 0, 0],\n",
    "    [6, 0, 0, 1, 9, 5, 0, 0, 0],\n",
    "    [0, 9, 8, 0, 0, 0, 0, 6, 0],\n",
    "    [8, 0, 0, 0, 6, 0, 0, 0, 3],\n",
    "    [4, 0, 0, 8, 0, 3, 0, 0, 1],\n",
    "    [7, 0, 0, 0, 2, 0, 0, 0, 6],\n",
    "    [0, 6, 0, 0, 0, 0, 2, 8, 0],\n",
    "    [0, 0, 0, 4, 1, 9, 0, 0, 5],\n",
    "    [0, 0, 0, 0, 8, 0, 0, 7, 9],\n",
    "]\n",
    "\n",
    "solved = solve_sudoku(sample_puzzle)\n",
    "print(\"Solved Sudoku Puzzle:\")\n",
    "for row in solved:\n",
    "    print(row)\n",
    "    \n",
    "# Optionally, verify that the solved puzzle is valid:\n",
    "print(\"Is the solution valid?\", is_valid_sudoku(solved))\n"
   ]
  },
  {
   "cell_type": "code",
   "execution_count": null,
   "id": "4eb70734-cbdd-4c42-ae03-afce5835fa1f",
   "metadata": {},
   "outputs": [],
   "source": [
    "Traffic Sign Recognition: \n",
    "import cv2\n",
    "import numpy as np\n",
    "from traffic_signs import load_data, build_model, train_model, evaluate_model\n",
    "\n",
    "# For demonstration purposes, create a dummy image to simulate preprocessing:\n",
    "dummy_image = np.random.randint(0, 256, (100, 100, 3), dtype=np.uint8)\n",
    "resized_image = cv2.resize(dummy_image, (30, 30))\n",
    "normalized_image = resized_image / 255.0\n",
    "print(\"Preprocessed dummy image shape:\", normalized_image.shape)\n",
    "\n",
    "# Build and train the model on small dummy data:\n",
    "X_train = np.random.rand(10, 30, 30, 3)\n",
    "y_train = np.eye(43)[np.random.choice(43, 10)]\n",
    "model = build_model()\n",
    "history = train_model(model, X_train, y_train, epochs=1)\n",
    "print(\"Training loss after 1 epoch:\", history.history['loss'])\n",
    "\n",
    "# Evaluate the model on dummy test data:\n",
    "X_test = np.random.rand(5, 30, 30, 3)\n",
    "y_test = np.eye(43)[np.random.choice(43, 5)]\n",
    "acc = evaluate_model(model, X_test, y_test)\n",
    "print(\"Dummy test accuracy:\", acc)\n"
   ]
  }
 ],
 "metadata": {
  "kernelspec": {
   "display_name": "Python [conda env:base] *",
   "language": "python",
   "name": "conda-base-py"
  },
  "language_info": {
   "codemirror_mode": {
    "name": "ipython",
    "version": 3
   },
   "file_extension": ".py",
   "mimetype": "text/x-python",
   "name": "python",
   "nbconvert_exporter": "python",
   "pygments_lexer": "ipython3",
   "version": "3.12.4"
  }
 },
 "nbformat": 4,
 "nbformat_minor": 5
}
