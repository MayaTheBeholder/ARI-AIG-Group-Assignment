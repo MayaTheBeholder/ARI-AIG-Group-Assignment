import heapq
import matplotlib.pyplot as plt
import numpy as np
from matplotlib.colors import ListedColormap

class Maze:
    def __init__(self, filename):
        self.grid = []
        self.start = None
        self.goal = None
        self.walls = []
        self.parse_maze(filename)
        
    def parse_maze(self, filename):
        with open(filename, 'r') as f:
            for i, line in enumerate(f):
                row = []
                for j, char in enumerate(line.strip()):
                    if char == 'A':
                        self.start = (i, j)
                        row.append(0)
                    elif char == 'B':
                        self.goal = (i, j)
                        row.append(0)
                    elif char == '#':
                        self.walls.append((i, j))
                        row.append(1)
                    else:
                        row.append(0)
                self.grid.append(row)
        
    def neighbors(self, state):
        row, col = state
        candidates = [
            ("up", (row - 1, col)),
            ("down", (row + 1, col)),
            ("left", (row, col - 1)),
            ("right", (row, col + 1))
        ]
        
        result = []
        for action, (r, c) in candidates:
            if 0 <= r < len(self.grid) and 0 <= c < len(self.grid[0]) and self.grid[r][c] != 1:
                result.append((action, (r, c)))
        return result
    
    def manhattan_distance(self, state):
        return abs(state[0] - self.goal[0]) + abs(state[1] - self.goal[1])

class Node:
    def __init__(self, state, parent=None, action=None, cost=0):
        self.state = state
        self.parent = parent
        self.action = action
        self.cost = cost
        
    def __lt__(self, other):
        return self.cost < other.cost

def solve(maze, algorithm="greedy"):
    frontier = []
    heapq.heappush(frontier, (0, Node(maze.start)))
    explored = set()
    explored_states = []
    
    while frontier:
        _, node = heapq.heappop(frontier)
        
        if node.state == maze.goal:
            path = []
            explored_states.append(node.state)
            while node.parent is not None:
                path.append(node.action)
                node = node.parent
            path.reverse()
            return path, explored_states
        
        if node.state in explored:
            continue
            
        explored.add(node.state)
        explored_states.append(node.state)
        
        for action, state in maze.neighbors(node.state):
            if state not in explored:
                if algorithm == "greedy":
                    priority = maze.manhattan_distance(state)
                elif algorithm == "astar":
                    priority = node.cost + 1 + maze.manhattan_distance(state)
                heapq.heappush(frontier, (priority, Node(state, node, action, node.cost + 1)))
    
    raise Exception("No path exists")

def visualize(maze, path=None, explored=None, filename="maze_solution.png"):
    grid = np.array(maze.grid)
    if path:
        path_states = [maze.start]
        current = maze.start
        for action in path:
            if action == "up":
                current = (current[0] - 1, current[1])
            elif action == "down":
                current = (current[0] + 1, current[1])
            elif action == "left":
                current = (current[0], current[1] - 1)
            elif action == "right":
                current = (current[0], current[1] + 1)
            path_states.append(current)
    
    cmap = ListedColormap(['white', 'black', 'green', 'red', 'blue', 'yellow'])
    display_grid = np.zeros_like(grid)
    
    #walls
    for wall in maze.walls:
        display_grid[wall[0], wall[1]] = 1
    
    #start & goal
    display_grid[maze.start[0], maze.start[1]] = 2
    display_grid[maze.goal[0], maze.goal[1]] = 3
    
    #path
    if path:
        for state in path_states:
            display_grid[state[0], state[1]] = 4
    
    #explored states
    if explored:
        for state in explored:
            if display_grid[state[0], state[1]] == 0:
                display_grid[state[0], state[1]] = 5
    
    plt.figure(figsize=(10, 10))
    plt.imshow(display_grid, cmap=cmap)
    plt.xticks([]), plt.yticks([])
    legend_elements = [
        plt.Rectangle((0,0),1,1, fc='white', label='Empty'),
        plt.Rectangle((0,0),1,1, fc='black', label='Wall'),
        plt.Rectangle((0,0),1,1, fc='green', label='Start'),
        plt.Rectangle((0,0),1,1, fc='red', label='Goal'),
        plt.Rectangle((0,0),1,1, fc='blue', label='Path'),
        plt.Rectangle((0,0),1,1, fc='yellow', label='Explored')
    ]
    plt.legend(handles=legend_elements, bbox_to_anchor=(1.05, 1), loc='upper left')
    plt.savefig(filename, bbox_inches='tight')
    plt.close()

#example usage
if __name__ == "__main__":
    maze = Maze("maze.txt")
    
    #greedy Best-First Search
    try:
        path, explored = solve(maze, algorithm="greedy")
        print("Greedy Best-First Search Path:", path)
        visualize(maze, path, explored, "maze_greedy.png")
    except Exception as e:
        print(e)
    
    #a* Search
    try:
        path, explored = solve(maze, algorithm="astar")
        print("A* Search Path:", path)
        visualize(maze, path, explored, "maze_astar.png")
    except Exception as e:
        print(e)
