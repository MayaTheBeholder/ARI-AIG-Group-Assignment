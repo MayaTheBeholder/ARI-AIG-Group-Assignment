{
 "cells": [
  {
   "cell_type": "code",
   "execution_count": 29,
   "id": "3461677d-9357-427a-8dd4-a89be2c9c426",
   "metadata": {},
   "outputs": [],
   "source": [
    "import csv\n",
    "from collections import deque\n",
    "\n",
    "# Data structures\n",
    "scientists = {}",
    "papers = {}"
   ]
  },
  {
   "cell_type": "code",
   "execution_count": 31,
   "id": "c072bc61-f086-430a-a611-fac2c50e59b9",
   "metadata": {},
   "outputs": [],
   "source": [
    "def load_data(directory):\n",
    "    \"\"\"\n",
    "    Load data from CSV files into memory.\n",
    "    \"\"\"\n",
    "    with open(f\"{directory}scientists.csv\", encoding='utf-8') as f:\n",
    "        reader = csv.DictReader(f)\n",
    "        for row in reader:\n",
    "            scientists[row[\"scientist_id\"]] = {\n",
    "                \"name\": row[\"name\"],\n",
    "                \"papers\": set()\n",
    "            }\n",
    "    \n",
    "    with open(f\"{directory}papers.csv\", encoding='utf-8') as f:\n",
    "        reader = csv.DictReader(f)\n",
    "        for row in reader:\n",
    "            papers[row[\"paper_id\"]] = {\n",
    "                \"title\": row[\"title\"],\n",
    "                \"year\": row[\"year\"],\n",
    "                \"authors\": set()\n",
    "            }\n",
    "    \n",
    "    with open(f\"{directory}authors.csv\", encoding='utf-8') as f:\n",
    "        reader = csv.DictReader(f)\n",
    "        for row in reader:\n",
    "            scientist_id = row[\"scientist_id\"]\n",
    "            paper_id = row[\"paper_id\"]\n",
    "            if scientist_id in scientists:\n",
    "                scientists[scientist_id][\"papers\"].add(paper_id)\n",
    "            if paper_id in papers:\n",
    "                papers[paper_id][\"authors\"].add(scientist_id)\n"
   ]
  },
  {
   "cell_type": "code",
   "execution_count": 33,
   "id": "1a674553-0a28-4bd3-9882-96787564e7c8",
   "metadata": {},
   "outputs": [],
   "source": [
    "def neighbors_for_person(scientist_id):\n",
    "    \"\"\"\n",
    "    Returns (paper_id, co-author_id) pairs for a given scientist.\n",
    "    \"\"\"\n",
    "    neighbors = set()\n",
    "    for paper_id in scientists[scientist_id][\"papers\"]:\n",
    "        for coauthor_id in papers[paper_id][\"authors\"]:\n",
    "            if coauthor_id != scientist_id:\n",
    "                neighbors.add((paper_id, coauthor_id))\n",
    "    return neighbors\n"
   ]
  },
  {
   "cell_type": "code",
   "execution_count": 35,
   "id": "65060d1f-a4e9-456e-9170-8020b317e066",
   "metadata": {},
   "outputs": [],
   "source": [
    "def shortest_path(source_id, target_id):\n",
    "    \"\"\"\n",
    "    Returns the shortest list of (paper_id, scientist_id) pairs\n",
    "    that connect the source to the target.\n",
    "    If no path, returns None.\n",
    "    \"\"\"\n",
    "    frontier = deque()\n",
    "    frontier.append((source_id, []))",
    "\n",
    "    explored = set()\n",
    "\n",
    "    while frontier:\n",
    "        current_id, path = frontier.popleft()\n",
    "        explored.add(current_id)\n",
    "\n",
    "        for paper_id, neighbor_id in neighbors_for_person(current_id):\n",
    "            if neighbor_id == target_id:\n",
    "                return path + [(paper_id, neighbor_id)]\n",
    "\n",
    "            if neighbor_id not in explored:\n",
    "                frontier.append((neighbor_id, path + [(paper_id, neighbor_id)]))\n",
    "                explored.add(neighbor_id)\n",
    "\n",
    "    return None\n"
   ]
  },
  {
   "cell_type": "code",
   "execution_count": 37,
   "id": "c81ad7b2-c955-4294-941a-b733ff42df26",
   "metadata": {},
   "outputs": [],
   "source": [
    "def main():\n",
    "    data_choice = input(\"Small or Large dataset? (small/large): \").strip().lower()\n",
    "\n",
    "    if data_choice == \"small\":\n",
    "        directory = \"DataSmall\"\n",
    "    elif data_choice == \"large\":\n",
    "        directory = \"DataLarge\"\n",
    "    else:\n",
    "        print(\"Invalid choice.\")\n",
    "        return\n",
    "    \n",
    "    load_data(directory)\n",
    "\n",
    "    source_name = input(\"Enter the name of the source scientist: \").strip()\n",
    "    target_name = input(\"Enter the name of the target scientist: \").strip()\n",
    "\n",
    "    # Find IDs\n",
    "    source_id = None\n",
    "    target_id = None\n",
    "\n",
    "    for scientist_id, info in scientists.items():\n",
    "        if info[\"name\"].lower() == source_name.lower():\n",
    "            source_id = scientist_id\n",
    "        if info[\"name\"].lower() == target_name.lower():\n",
    "            target_id = scientist_id\n",
    "\n",
    "    if source_id is None or target_id is None:\n",
    "        print(\"Scientist not found.\")\n",
    "        return\n",
    "\n",
    "    path = shortest_path(source_id, target_id)\n",
    "\n",
    "    if path is None:\n",
    "        print(\"No connection found.\")\n",
    "    else:\n",
    "        degrees = len(path)\n",
    "        print(f\"{degrees} degrees of separation.\")\n",
    "        current_id = source_id\n",
    "        for i, (paper_id, scientist_id) in enumerate(path, 1):\n",
    "            paper = papers[paper_id][\"title\"]\n",
    "            scientist = scientists[scientist_id][\"name\"]\n",
    "            print(f\"{i}: {scientists[current_id]['name']} and {scientist} co-authored \\\"{paper}\\\"\")\n",
    "            current_id = scientist_id\n"
   ]
  },
  {
   "cell_type": "code",
   "execution_count": 39,
   "id": "8276c480-8273-40ca-98a2-c78f5eb30238",
   "metadata": {},
   "outputs": [
    {
     "name": "stdin",
     "output_type": "stream",
     "text": [
      "Small or Large dataset? (small/large):  small\n",
      "Enter the name of the source scientist:  Elı́as Campo\n",
      "Enter the name of the target scientist:  Jun Zhang\n"
     ]
    },
    {
     "ename": "KeyError",
     "evalue": "'A5074953707'",
     "output_type": "error",
     "traceback": [
      "\u001b[0;31m---------------------------------------------------------------------------\u001b[0m",
      "\u001b[0;31mKeyError\u001b[0m                                  Traceback (most recent call last)",
      "Cell \u001b[0;32mIn[39], line 1\u001b[0m\n\u001b[0;32m----> 1\u001b[0m main()\n",
      "Cell \u001b[0;32mIn[37], line 32\u001b[0m, in \u001b[0;36mmain\u001b[0;34m()\u001b[0m\n\u001b[1;32m     29\u001b[0m     \u001b[38;5;28mprint\u001b[39m(\u001b[38;5;124m\"\u001b[39m\u001b[38;5;124mScientist not found.\u001b[39m\u001b[38;5;124m\"\u001b[39m)\n\u001b[1;32m     30\u001b[0m     \u001b[38;5;28;01mreturn\u001b[39;00m\n\u001b[0;32m---> 32\u001b[0m path \u001b[38;5;241m=\u001b[39m shortest_path(source_id, target_id)\n\u001b[1;32m     34\u001b[0m \u001b[38;5;28;01mif\u001b[39;00m path \u001b[38;5;129;01mis\u001b[39;00m \u001b[38;5;28;01mNone\u001b[39;00m:\n\u001b[1;32m     35\u001b[0m     \u001b[38;5;28mprint\u001b[39m(\u001b[38;5;124m\"\u001b[39m\u001b[38;5;124mNo connection found.\u001b[39m\u001b[38;5;124m\"\u001b[39m)\n",
      "Cell \u001b[0;32mIn[35], line 16\u001b[0m, in \u001b[0;36mshortest_path\u001b[0;34m(source_id, target_id)\u001b[0m\n\u001b[1;32m     13\u001b[0m current_id, path \u001b[38;5;241m=\u001b[39m frontier\u001b[38;5;241m.\u001b[39mpopleft()\n\u001b[1;32m     14\u001b[0m explored\u001b[38;5;241m.\u001b[39madd(current_id)\n\u001b[0;32m---> 16\u001b[0m \u001b[38;5;28;01mfor\u001b[39;00m paper_id, neighbor_id \u001b[38;5;129;01min\u001b[39;00m neighbors_for_person(current_id):\n\u001b[1;32m     17\u001b[0m     \u001b[38;5;28;01mif\u001b[39;00m neighbor_id \u001b[38;5;241m==\u001b[39m target_id:\n\u001b[1;32m     18\u001b[0m         \u001b[38;5;28;01mreturn\u001b[39;00m path \u001b[38;5;241m+\u001b[39m [(paper_id, neighbor_id)]\n",
      "Cell \u001b[0;32mIn[33], line 6\u001b[0m, in \u001b[0;36mneighbors_for_person\u001b[0;34m(scientist_id)\u001b[0m\n\u001b[1;32m      2\u001b[0m \u001b[38;5;250m\u001b[39m\u001b[38;5;124;03m\"\"\"\u001b[39;00m\n\u001b[1;32m      3\u001b[0m \u001b[38;5;124;03mReturns (paper_id, co-author_id) pairs for a given scientist.\u001b[39;00m\n\u001b[1;32m      4\u001b[0m \u001b[38;5;124;03m\"\"\"\u001b[39;00m\n\u001b[1;32m      5\u001b[0m neighbors \u001b[38;5;241m=\u001b[39m \u001b[38;5;28mset\u001b[39m()\n\u001b[0;32m----> 6\u001b[0m \u001b[38;5;28;01mfor\u001b[39;00m paper_id \u001b[38;5;129;01min\u001b[39;00m scientists[scientist_id][\u001b[38;5;124m\"\u001b[39m\u001b[38;5;124mpapers\u001b[39m\u001b[38;5;124m\"\u001b[39m]:\n\u001b[1;32m      7\u001b[0m     \u001b[38;5;28;01mfor\u001b[39;00m coauthor_id \u001b[38;5;129;01min\u001b[39;00m papers[paper_id][\u001b[38;5;124m\"\u001b[39m\u001b[38;5;124mauthors\u001b[39m\u001b[38;5;124m\"\u001b[39m]:\n\u001b[1;32m      8\u001b[0m         \u001b[38;5;28;01mif\u001b[39;00m coauthor_id \u001b[38;5;241m!=\u001b[39m scientist_id:\n",
      "\u001b[0;31mKeyError\u001b[0m: 'A5074953707'"
     ]
    }
   ],
   "source": [
    "main()\n"
   ]
  },
  {
   "cell_type": "code",
   "execution_count": null,
   "id": "657f7e9a-35a1-42ad-bc1d-0c8de70c1e1b",
   "metadata": {},
   "outputs": [],
   "source": []
  }
 ],
 "metadata": {
  "kernelspec": {
   "display_name": "Python 3 (ipykernel)",
   "language": "python",
   "name": "python3"
  },
  "language_info": {
   "codemirror_mode": {
    "name": "ipython",
    "version": 3
   },
   "file_extension": ".py",
   "mimetype": "text/x-python",
   "name": "python",
   "nbconvert_exporter": "python",
   "pygments_lexer": "ipython3",
   "version": "3.12.4"
  }
 },
 "nbformat": 4,
 "nbformat_minor": 5
}
